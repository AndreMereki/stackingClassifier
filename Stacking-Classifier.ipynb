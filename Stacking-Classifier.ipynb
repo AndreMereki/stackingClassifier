{
 "cells": [
  {
   "cell_type": "markdown",
   "id": "0e674441-8d82-4aa5-b2dd-3282e33755ce",
   "metadata": {},
   "source": [
    "# How to stack machine learning models for improved performance"
   ]
  },
  {
   "cell_type": "markdown",
   "id": "b0fc29f8-7b22-4213-ada7-4cb3c1db0d50",
   "metadata": {},
   "source": [
    "# Load dataset"
   ]
  },
  {
   "cell_type": "code",
   "execution_count": 1,
   "id": "6c687145-b057-4397-87ae-a5d3fa75786d",
   "metadata": {},
   "outputs": [],
   "source": [
    "#iris dataset\n",
    "\n",
    "from sklearn.datasets import load_iris \n",
    "x, y = load_iris(return_X_y=True)"
   ]
  },
  {
   "cell_type": "code",
   "execution_count": 2,
   "id": "f8072818-8b7b-4f5c-95a7-3637d5f9c248",
   "metadata": {},
   "outputs": [
    {
     "data": {
      "text/plain": [
       "(150, 4)"
      ]
     },
     "execution_count": 2,
     "metadata": {},
     "output_type": "execute_result"
    }
   ],
   "source": [
    "# remove low variance features \n",
    "from sklearn.feature_selection import VarianceThreshold\n",
    "\n",
    "selection = VarianceThreshold(threshold=(0.1))\n",
    "X = selection.fit_transform(x)\n",
    "X.shape"
   ]
  },
  {
   "cell_type": "code",
   "execution_count": 3,
   "id": "47a18a6d-0536-4037-8f94-40198a4a319a",
   "metadata": {},
   "outputs": [],
   "source": [
    "# Data splitting \n",
    "from sklearn.model_selection import train_test_split\n",
    "\n",
    "train_x, test_x, train_y, test_y = train_test_split(\n",
    "    x, y, stratify=y, test_size=0.2, random_state=42\n",
    ")"
   ]
  },
  {
   "cell_type": "code",
   "execution_count": 4,
   "id": "a6b4b6bf-9c34-47fc-81c6-a8ca71872cb9",
   "metadata": {},
   "outputs": [
    {
     "data": {
      "text/plain": [
       "((120, 4), (30, 4))"
      ]
     },
     "execution_count": 4,
     "metadata": {},
     "output_type": "execute_result"
    }
   ],
   "source": [
    "train_x.shape, test_x.shape"
   ]
  },
  {
   "cell_type": "markdown",
   "id": "114422fd-c727-4355-8349-de6cbf08455e",
   "metadata": {},
   "source": [
    "# Build Classification models"
   ]
  },
  {
   "cell_type": "code",
   "execution_count": 5,
   "id": "30dbc8dd-565e-4cac-aa62-ae4423b1c96c",
   "metadata": {},
   "outputs": [],
   "source": [
    "from sklearn.metrics import accuracy_score\n",
    "from sklearn.metrics import matthews_corrcoef \n",
    "from sklearn.metrics import f1_score"
   ]
  },
  {
   "cell_type": "markdown",
   "id": "67ed004d-fbe7-43c1-bea2-87cfb28bb729",
   "metadata": {},
   "source": [
    "## K nearest neighbors \n"
   ]
  },
  {
   "cell_type": "code",
   "execution_count": 6,
   "id": "66483e47-a940-42ae-bd25-22f2695735c3",
   "metadata": {},
   "outputs": [],
   "source": [
    "from sklearn.neighbors import KNeighborsClassifier"
   ]
  },
  {
   "cell_type": "code",
   "execution_count": 7,
   "id": "1a9e4a12-2163-4955-bfa8-bde117461cc5",
   "metadata": {},
   "outputs": [
    {
     "name": "stdout",
     "output_type": "stream",
     "text": [
      "Model performance for Training set\n",
      "-Accuracy: 0.9583333333333334\n",
      "-MCC: 0.9375976715114386\n",
      "F1 Score: 0.9583268218992551\n",
      "--------------------------------------\n",
      "Model performance for Training set\n",
      "-Accuracy: 1.0\n",
      "-MCC: 1.0\n",
      "F1 Score: 1.0\n"
     ]
    }
   ],
   "source": [
    "knn = KNeighborsClassifier(3)\n",
    "knn.fit(train_x, train_y)\n",
    "\n",
    "# Make predictions \n",
    "\n",
    "train_y_pred = knn.predict(train_x)\n",
    "y_test_pred = knn.predict(test_x)\n",
    "\n",
    "# Training set performance \n",
    "knn_train_accuracy = accuracy_score(train_y, train_y_pred)\n",
    "knn_train_mcc = matthews_corrcoef(train_y, train_y_pred)\n",
    "knn_train_f1 = f1_score(train_y, train_y_pred, average=\"weighted\")\n",
    "\n",
    "# Test set performance \n",
    "knn_test_accuracy = accuracy_score(test_y, y_test_pred)\n",
    "knn_test_mcc = matthews_corrcoef(test_y, y_test_pred)\n",
    "knn_test_f1 = f1_score(test_y, y_test_pred, average=\"weighted\")\n",
    "\n",
    "print('Model performance for Training set')\n",
    "print(f'-Accuracy: {knn_train_accuracy}')\n",
    "print(f\"-MCC: {knn_train_mcc}\")\n",
    "print(f\"F1 Score: {knn_train_f1}\")\n",
    "print(\"--------------------------------------\")\n",
    "print('Model performance for Training set')\n",
    "print(f'-Accuracy: {knn_test_accuracy}')\n",
    "print(f\"-MCC: {knn_test_mcc}\")\n",
    "print(f\"F1 Score: {knn_test_f1}\")"
   ]
  },
  {
   "cell_type": "markdown",
   "id": "5a582b7b-5b7a-4634-9822-18651644f868",
   "metadata": {},
   "source": [
    "## Support vector machine (Radial basis function kernel)"
   ]
  },
  {
   "cell_type": "code",
   "execution_count": 8,
   "id": "49abdba2-9989-4163-8eb8-5126bc3fb1fe",
   "metadata": {},
   "outputs": [
    {
     "name": "stdout",
     "output_type": "stream",
     "text": [
      "Model performance for Training set\n",
      "-Accuracy: 0.9916666666666667\n",
      "-MCC: 0.9876028806587153\n",
      "F1 Score: 0.9916653643798512\n",
      "--------------------------------------\n",
      "Model performance for Training set\n",
      "-Accuracy: 0.9666666666666667\n",
      "-MCC: 0.9515873026942034\n",
      "F1 Score: 0.9665831244778613\n"
     ]
    }
   ],
   "source": [
    "from sklearn.svm import SVC\n",
    "\n",
    "svm_rbf = SVC(gamma=2, C=1)\n",
    "svm_rbf.fit(train_x, train_y)\n",
    "\n",
    "#Make predictions \n",
    "train_y_pred = svm_rbf.predict(train_x)\n",
    "y_test_pred = svm_rbf.predict(test_x)\n",
    "\n",
    "#training set performance \n",
    "svm_train_accuracy = accuracy_score(train_y, train_y_pred)\n",
    "svm_train_mcc = matthews_corrcoef(train_y, train_y_pred)\n",
    "svm_train_f1 = f1_score(train_y, train_y_pred, average=\"weighted\")\n",
    "\n",
    "# Test set performance \n",
    "svm_test_accuracy = accuracy_score(test_y, y_test_pred)\n",
    "svm_test_mcc = matthews_corrcoef(test_y, y_test_pred)\n",
    "svm_test_f1 = f1_score(test_y, y_test_pred, average=\"weighted\")\n",
    "\n",
    "print('Model performance for Training set')\n",
    "print(f'-Accuracy: {svm_train_accuracy}')\n",
    "print(f\"-MCC: {svm_train_mcc}\")\n",
    "print(f\"F1 Score: {svm_train_f1}\")\n",
    "print(\"--------------------------------------\")\n",
    "print('Model performance for Training set')\n",
    "print(f'-Accuracy: {svm_test_accuracy}')\n",
    "print(f\"-MCC: {svm_test_mcc}\")\n",
    "print(f\"F1 Score: {svm_test_f1}\")"
   ]
  },
  {
   "cell_type": "markdown",
   "id": "ad77e598-6bcc-4218-9183-f040ed8469c3",
   "metadata": {},
   "source": [
    "## Decision tree\n"
   ]
  },
  {
   "cell_type": "code",
   "execution_count": 9,
   "id": "45b26e00-d662-4cb2-828a-6e61f0cd1c3f",
   "metadata": {},
   "outputs": [
    {
     "name": "stdout",
     "output_type": "stream",
     "text": [
      "Model performance for Training set\n",
      "-Accuracy: 1.0\n",
      "-MCC: 1.0\n",
      "F1 Score: 1.0\n",
      "--------------------------------------\n",
      "Model performance for Training set\n",
      "-Accuracy: 0.9333333333333333\n",
      "-MCC: 0.9\n",
      "F1 Score: 0.9333333333333333\n"
     ]
    }
   ],
   "source": [
    "from sklearn.tree import DecisionTreeClassifier\n",
    "\n",
    "dt = DecisionTreeClassifier(max_depth=5)\n",
    "dt.fit(train_x, train_y)\n",
    "\n",
    "#make predictions\n",
    "train_y_pred = dt.predict(train_x)\n",
    "y_test_pred = dt.predict(test_x)\n",
    "\n",
    "# training set performance \n",
    "dt_train_accuracy = accuracy_score(train_y, train_y_pred)\n",
    "dt_train_mcc = matthews_corrcoef(train_y, train_y_pred)\n",
    "dt_train_f1 = f1_score(train_y, train_y_pred, average=\"weighted\")\n",
    "\n",
    "# Test set performance \n",
    "dt_test_accuracy = accuracy_score(test_y, y_test_pred)\n",
    "dt_test_mcc = matthews_corrcoef(test_y, y_test_pred)\n",
    "dt_test_f1 = f1_score(test_y, y_test_pred, average=\"weighted\")\n",
    "\n",
    "print('Model performance for Training set')\n",
    "print(f'-Accuracy: {dt_train_accuracy}')\n",
    "print(f\"-MCC: {dt_train_mcc}\")\n",
    "print(f\"F1 Score: {dt_train_f1}\")\n",
    "print(\"--------------------------------------\")\n",
    "print('Model performance for Training set')\n",
    "print(f'-Accuracy: {dt_test_accuracy}')\n",
    "print(f\"-MCC: {dt_test_mcc}\")\n",
    "print(f\"F1 Score: {dt_test_f1}\")"
   ]
  },
  {
   "cell_type": "markdown",
   "id": "c99bd319-c2d3-47a2-a5e0-62fb1648c04d",
   "metadata": {},
   "source": [
    "## Random forest "
   ]
  },
  {
   "cell_type": "code",
   "execution_count": 10,
   "id": "3273ebb2-9e65-4e16-86dd-46864d4ee40d",
   "metadata": {},
   "outputs": [
    {
     "name": "stdout",
     "output_type": "stream",
     "text": [
      "Model performance for Training set\n",
      "-Accuracy: 1.0\n",
      "-MCC: 1.0\n",
      "F1 Score: 1.0\n",
      "--------------------------------------\n",
      "Model performance for Training set\n",
      "-Accuracy: 0.9666666666666667\n",
      "-MCC: 0.9515873026942034\n",
      "F1 Score: 0.9665831244778613\n"
     ]
    }
   ],
   "source": [
    "from sklearn.ensemble import RandomForestClassifier\n",
    "\n",
    "rf = RandomForestClassifier(n_estimators=10)\n",
    "rf.fit(train_x, train_y)\n",
    "\n",
    "#make predictions\n",
    "train_y_pred = rf.predict(train_x)\n",
    "y_test_pred = rf.predict(test_x)\n",
    "\n",
    "# training set performance \n",
    "rf_train_accuracy = accuracy_score(train_y, train_y_pred)\n",
    "rf_train_mcc = matthews_corrcoef(train_y, train_y_pred)\n",
    "rf_train_f1 = f1_score(train_y, train_y_pred, average=\"weighted\")\n",
    "\n",
    "# Test set performance \n",
    "rf_test_accuracy = accuracy_score(test_y, y_test_pred)\n",
    "rf_test_mcc = matthews_corrcoef(test_y, y_test_pred)\n",
    "rf_test_f1 = f1_score(test_y, y_test_pred, average=\"weighted\")\n",
    "\n",
    "print('Model performance for Training set')\n",
    "print(f'-Accuracy: {rf_train_accuracy}')\n",
    "print(f\"-MCC: {rf_train_mcc}\")\n",
    "print(f\"F1 Score: {rf_train_f1}\")\n",
    "print(\"--------------------------------------\")\n",
    "print('Model performance for Training set')\n",
    "print(f'-Accuracy: {rf_test_accuracy}')\n",
    "print(f\"-MCC: {rf_test_mcc}\")\n",
    "print(f\"F1 Score: {rf_test_f1}\")"
   ]
  },
  {
   "cell_type": "markdown",
   "id": "948c30d7-65f2-4a25-af2c-618f302fb6a1",
   "metadata": {},
   "source": [
    "## Neural Network "
   ]
  },
  {
   "cell_type": "code",
   "execution_count": 12,
   "id": "a840b643-a84a-45c8-9480-46d7fee49ecd",
   "metadata": {},
   "outputs": [
    {
     "name": "stdout",
     "output_type": "stream",
     "text": [
      "Model performance for Training set\n",
      "-Accuracy: 0.9833333333333333\n",
      "-MCC: 0.9754065040827025\n",
      "F1 Score: 0.9833229101521785\n",
      "--------------------------------------\n",
      "Model performance for Training set\n",
      "-Accuracy: 1.0\n",
      "-MCC: 1.0\n",
      "F1 Score: 1.0\n"
     ]
    }
   ],
   "source": [
    "from sklearn.neural_network import MLPClassifier\n",
    "\n",
    "mlp = MLPClassifier(alpha=1, max_iter=1000)\n",
    "mlp.fit(train_x, train_y)\n",
    "\n",
    "#make predictions\n",
    "train_y_pred = mlp.predict(train_x)\n",
    "y_test_pred = mlp.predict(test_x)\n",
    "\n",
    "# training set performance \n",
    "mlp_train_accuracy = accuracy_score(train_y, train_y_pred)\n",
    "mlp_train_mcc = matthews_corrcoef(train_y, train_y_pred)\n",
    "mlp_train_f1 = f1_score(train_y, train_y_pred, average=\"weighted\")\n",
    "\n",
    "# Test set performance \n",
    "mlp_test_accuracy = accuracy_score(test_y, y_test_pred)\n",
    "mlp_test_mcc = matthews_corrcoef(test_y, y_test_pred)\n",
    "mlp_test_f1 = f1_score(test_y, y_test_pred, average=\"weighted\")\n",
    "\n",
    "print('Model performance for Training set')\n",
    "print(f'-Accuracy: {mlp_train_accuracy}')\n",
    "print(f\"-MCC: {mlp_train_mcc}\")\n",
    "print(f\"F1 Score: {mlp_train_f1}\")\n",
    "print(\"--------------------------------------\")\n",
    "print('Model performance for Training set')\n",
    "print(f'-Accuracy: {mlp_test_accuracy}')\n",
    "print(f\"-MCC: {mlp_test_mcc}\")\n",
    "print(f\"F1 Score: {mlp_test_f1}\")"
   ]
  },
  {
   "cell_type": "markdown",
   "id": "998682ce-a8a6-4969-bc1b-d77567ddf227",
   "metadata": {},
   "source": [
    "# Building Stacked model"
   ]
  },
  {
   "cell_type": "code",
   "execution_count": 15,
   "id": "c6b69ca1-bbb6-48a0-984a-8f199b0488ed",
   "metadata": {},
   "outputs": [
    {
     "name": "stdout",
     "output_type": "stream",
     "text": [
      "Model performance for Training set\n",
      "-Accuracy: 0.9916666666666667\n",
      "-MCC: 0.9876028806587153\n",
      "F1 Score: 0.9916653643798512\n",
      "--------------------------------------\n",
      "Model performance for Training set\n",
      "-Accuracy: 1.0\n",
      "-MCC: 1.0\n",
      "F1 Score: 1.0\n"
     ]
    }
   ],
   "source": [
    "from sklearn.ensemble import StackingClassifier\n",
    "from sklearn.linear_model import LogisticRegression\n",
    "\n",
    "estimator_list = [\n",
    "    ('knn', knn),\n",
    "    ('svm', svm_rbf),\n",
    "    ('dt',dt),\n",
    "    ('rf', rf),\n",
    "    ('mlp', mlp)\n",
    "]\n",
    "\n",
    "#build stack model \n",
    "stack_model = StackingClassifier(\n",
    "    estimators=estimator_list, final_estimator=LogisticRegression()\n",
    ")\n",
    "\n",
    "# Train stacked model\n",
    "stack_model.fit(train_x, train_y)\n",
    "\n",
    "#make predictions\n",
    "train_y_pred = stack_model.predict(train_x)\n",
    "y_test_pred = stack_model.predict(test_x)\n",
    "\n",
    "# training set performance \n",
    "stack_train_accuracy = accuracy_score(train_y, train_y_pred)\n",
    "stack_train_mcc = matthews_corrcoef(train_y, train_y_pred)\n",
    "stack_train_f1 = f1_score(train_y, train_y_pred, average=\"weighted\")\n",
    "\n",
    "# Test set performance \n",
    "stack_test_accuracy = accuracy_score(test_y, y_test_pred)\n",
    "stack_test_mcc = matthews_corrcoef(test_y, y_test_pred)\n",
    "stack_test_f1 = f1_score(test_y, y_test_pred, average=\"weighted\")\n",
    "\n",
    "print('Model performance for Training set')\n",
    "print(f'-Accuracy: {stack_train_accuracy}')\n",
    "print(f\"-MCC: {stack_train_mcc}\")\n",
    "print(f\"F1 Score: {stack_train_f1}\")\n",
    "print(\"--------------------------------------\")\n",
    "print('Model performance for Training set')\n",
    "print(f'-Accuracy: {stack_test_accuracy}')\n",
    "print(f\"-MCC: {stack_test_mcc}\")\n",
    "print(f\"F1 Score: {stack_test_f1}\")"
   ]
  },
  {
   "cell_type": "code",
   "execution_count": null,
   "id": "b3b8f9bf-74c1-400c-a6dd-1be075881e9f",
   "metadata": {},
   "outputs": [],
   "source": []
  }
 ],
 "metadata": {
  "kernelspec": {
   "display_name": "Python 3 (ipykernel)",
   "language": "python",
   "name": "python3"
  },
  "language_info": {
   "codemirror_mode": {
    "name": "ipython",
    "version": 3
   },
   "file_extension": ".py",
   "mimetype": "text/x-python",
   "name": "python",
   "nbconvert_exporter": "python",
   "pygments_lexer": "ipython3",
   "version": "3.12.4"
  }
 },
 "nbformat": 4,
 "nbformat_minor": 5
}
